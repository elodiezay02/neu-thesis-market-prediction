{
 "cells": [
  {
   "cell_type": "code",
   "execution_count": 1,
   "metadata": {},
   "outputs": [],
   "source": [
    "from openai import OpenAI\n",
    "import pandas as pd\n",
    "import requests\n",
    "from tqdm import tqdm"
   ]
  },
  {
   "cell_type": "code",
   "execution_count": 2,
   "metadata": {},
   "outputs": [],
   "source": [
    "together_api = '213246a2e01a33896cbfef47fa9cb0788d6f8559d58506868b2a1cb6d54e858c'\n",
    "\n",
    "endpoint = 'https://api.together.xyz/inference'\n",
    "headers={\n",
    "    \"Authorization\": f\"Bearer {together_api}\",\n",
    "    \"User-Agent\": \"News Labeling\"\n",
    "}"
   ]
  },
  {
   "cell_type": "code",
   "execution_count": 2,
   "metadata": {},
   "outputs": [
    {
     "data": {
      "text/html": [
       "<div>\n",
       "<style scoped>\n",
       "    .dataframe tbody tr th:only-of-type {\n",
       "        vertical-align: middle;\n",
       "    }\n",
       "\n",
       "    .dataframe tbody tr th {\n",
       "        vertical-align: top;\n",
       "    }\n",
       "\n",
       "    .dataframe thead th {\n",
       "        text-align: right;\n",
       "    }\n",
       "</style>\n",
       "<table border=\"1\" class=\"dataframe\">\n",
       "  <thead>\n",
       "    <tr style=\"text-align: right;\">\n",
       "      <th></th>\n",
       "      <th>date</th>\n",
       "      <th>title</th>\n",
       "      <th>description</th>\n",
       "      <th>content</th>\n",
       "      <th>result</th>\n",
       "    </tr>\n",
       "  </thead>\n",
       "  <tbody>\n",
       "    <tr>\n",
       "      <th>0</th>\n",
       "      <td>02-06-2017 - 09:45 AM</td>\n",
       "      <td>Day trading - Chiến lược mua bán ngay trong ng...</td>\n",
       "      <td>Cơ hội để tìm kiếm lợi nhuận trong ngày trên t...</td>\n",
       "      <td>Day trading - Chiến lược mua bán ngay trong ng...</td>\n",
       "      <td>positive</td>\n",
       "    </tr>\n",
       "    <tr>\n",
       "      <th>1</th>\n",
       "      <td>12-06-2017 - 09:00 AM</td>\n",
       "      <td>Các cách thức thao túng giá trên thị trường ch...</td>\n",
       "      <td>Trên thế giới, các đối tượng thao túng giá thư...</td>\n",
       "      <td>Các cách thức thao túng giá trên thị trường ch...</td>\n",
       "      <td>Neutral\\n\\nThe text is providing factual info...</td>\n",
       "    </tr>\n",
       "    <tr>\n",
       "      <th>2</th>\n",
       "      <td>17-06-2017 - 09:58 AM</td>\n",
       "      <td>Chứng khoán phái sinh: Minh bạch thị trường th...</td>\n",
       "      <td>Những ngày gần đây, khái niệm thị trường chứng...</td>\n",
       "      <td>Chứng khoán phái sinh: Minh bạch thị trường th...</td>\n",
       "      <td>neutral</td>\n",
       "    </tr>\n",
       "    <tr>\n",
       "      <th>3</th>\n",
       "      <td>30-06-2017 - 08:43 AM</td>\n",
       "      <td>Thị trường phái sinh dự kiến khai trương đầu t...</td>\n",
       "      <td>Đại diện Sở Giao dịch Chứng khoán Hà Nội (HNX)...</td>\n",
       "      <td>Thị trường phái sinh dự kiến khai trương đầu t...</td>\n",
       "      <td>neutral</td>\n",
       "    </tr>\n",
       "    <tr>\n",
       "      <th>4</th>\n",
       "      <td>10-07-2017 - 15:08 PM</td>\n",
       "      <td>Chứng khoán 6 tháng cuối năm: Tâm điểm có thuộ...</td>\n",
       "      <td>Thị trường chứng khoán (TTCK) Việt Nam đã trải...</td>\n",
       "      <td>Chứng khoán 6 tháng cuối năm: Tâm điểm có thuộ...</td>\n",
       "      <td>Neutral</td>\n",
       "    </tr>\n",
       "  </tbody>\n",
       "</table>\n",
       "</div>"
      ],
      "text/plain": [
       "                    date                                              title  \\\n",
       "0  02-06-2017 - 09:45 AM  Day trading - Chiến lược mua bán ngay trong ng...   \n",
       "1  12-06-2017 - 09:00 AM  Các cách thức thao túng giá trên thị trường ch...   \n",
       "2  17-06-2017 - 09:58 AM  Chứng khoán phái sinh: Minh bạch thị trường th...   \n",
       "3  30-06-2017 - 08:43 AM  Thị trường phái sinh dự kiến khai trương đầu t...   \n",
       "4  10-07-2017 - 15:08 PM  Chứng khoán 6 tháng cuối năm: Tâm điểm có thuộ...   \n",
       "\n",
       "                                         description  \\\n",
       "0  Cơ hội để tìm kiếm lợi nhuận trong ngày trên t...   \n",
       "1  Trên thế giới, các đối tượng thao túng giá thư...   \n",
       "2  Những ngày gần đây, khái niệm thị trường chứng...   \n",
       "3  Đại diện Sở Giao dịch Chứng khoán Hà Nội (HNX)...   \n",
       "4  Thị trường chứng khoán (TTCK) Việt Nam đã trải...   \n",
       "\n",
       "                                             content  \\\n",
       "0  Day trading - Chiến lược mua bán ngay trong ng...   \n",
       "1  Các cách thức thao túng giá trên thị trường ch...   \n",
       "2  Chứng khoán phái sinh: Minh bạch thị trường th...   \n",
       "3  Thị trường phái sinh dự kiến khai trương đầu t...   \n",
       "4  Chứng khoán 6 tháng cuối năm: Tâm điểm có thuộ...   \n",
       "\n",
       "                                              result  \n",
       "0                                           positive  \n",
       "1   Neutral\\n\\nThe text is providing factual info...  \n",
       "2                                            neutral  \n",
       "3                                            neutral  \n",
       "4                                            Neutral  "
      ]
     },
     "execution_count": 2,
     "metadata": {},
     "output_type": "execute_result"
    }
   ],
   "source": [
    "df = pd.read_csv('label_data.csv')\n",
    "df.head()"
   ]
  },
  {
   "cell_type": "code",
   "execution_count": 9,
   "metadata": {},
   "outputs": [],
   "source": [
    "# df['content'] = df['title'] + ' ' + df['description']"
   ]
  },
  {
   "cell_type": "code",
   "execution_count": 4,
   "metadata": {},
   "outputs": [
    {
     "name": "stdout",
     "output_type": "stream",
     "text": [
      " 1\n"
     ]
    }
   ],
   "source": [
    "res = requests.post(endpoint, json={\n",
    "    \"model\": 'togethercomputer/RedPajama-INCITE-7B-Base',\n",
    "    \"prompt\": \"\"\"\\\n",
    "      Gán nhãn cho các tiêu đề và tóm tắt nội dung bài báo dưới đây theo 4 mức độ ảnh hưởng lên VN30F1M (hợp đồng \\\n",
    "        tương lai của chỉ số VN30) từ 1 đến 4, với 1 là tiêu cực, 2 là không ảnh hưởng, 3 là vừa tiêu cực vừa \\\n",
    "        tích cực, 4 là tích cực. Chỉ trả về con số tương ứng với mức độ ảnh hưởng. Hợp đồng phái sinh (VN30F1M) hay hợp đồng tương lai (VN30F1M) hay phái sinh \\\n",
    "        đều có nghĩa như nhau. Chỉ số Dow Jones (DJ/DJI) có tương quan lớn tới chỉ số VN30:\n",
    "\n",
    "      Bài báo: Day trading - Chiến lược mua bán ngay trong ngày trên hợp đồng tương lai chỉ số Cơ hội để tìm kiếm lợi nhuận trong ngày trên thị trường phái sinh là rất lớn, với đặc điểm của hợp đồng tương lai có thể mua bán liên tục trong phiên\n",
    "      Nhãn: 4\n",
    "\n",
    "      Bài báo: Ngày mai, HNX sẽ tiến hành thử nghiệm hệ thống giao dịch chứng khoán phái sinh, Phải nhấn mạnh rằng “ký quỹ” trong chứng khoán phái sinh không giống như “ký quỹ” trên thị trường cơ sở. Trên thị trường cơ sở, ký quỹ là tiền nhà đầu tư đặt cọc để được công ty chứng khoán cho vay tiền mua cổ phiếu. Còn trên TTCK phái sinh, ký quỹ mang ý nghĩa là khoản tiền đặt cọc để thanh toán vị thế lãi/lỗ mỗi ngày cho nhà đầu tư.\n",
    "      Nhãn: 2\n",
    "\n",
    "      Bài báo: Bắt đầu mở tài khoản phái sinh, dự kiến giao dịch từ 10/8 Các công ty chứng khoán bắt đầu mở tài khoản cho nhà đầu tư muốn giao dịch chứng khoán phái sinh từ 1/8. Dự kiến thị trường phái sinh sẽ bắt đầu hoạt động từ ngày 10/8 tới...\n",
    "      Nhãn: 2\n",
    "\n",
    "      Bài báo: Có nên lo chứng khoán phái sinh sẽ hút dòng tiền của thị trường cổ phiếu?, Mặc dù có một số ý kiến cho rằng chứng khoán phái sinh sẽ thu hút dòng tiền từ chứng khoán cơ sở, gây ảnh hưởng tới thị trường nhưng các chuyên gia lại cho rằng đây là 2 thị trường hoàn toàn khác nhau và tác động qua lại sẽ không thực sự nhiều.\n",
    "      Nhãn: 3\n",
    "\n",
    "      Bài báo: Kéo trụ bất thành và Vn-Index giảm gần 6 điểm, VPB về tham chiếu, EIB giảm sàn, Các hợp đồng tương lai trên TTCK phái sinh cũng đóng cửa trong sắc đỏ. VN30F1708 đáo hạn ngày hôm nay với mức giảm 3,5 điểm về 744,6 điểm, khớp 1.134 hợp đồng\n",
    "      Nhãn: 1\n",
    "      \n",
    "      Bài báo: CTCK nhận định thị trường 23/08: Quan sát biến động của nhóm cổ phiếu dẫn dắt, có thể gia tăng tỷ trọng các cổ phiếu đã điều chỉnh mạnh, Giá khớp của các hợp đồng tương lai chỉ số trong phiên hôm qua tại tất cả các kỳ hạn đều giảm, cho thấy nhà đầu tư có kỳ vọng khá tiêu cực về diễn biến thị trường ít nhất trong ngắn hạn.\n",
    "      Nhãn: 1\n",
    "\n",
    "      Bài báo: Cổ phiếu VJC tăng thần tốc trước khi vào rổ VN30,Một lực đẩy khác giúp VJC tăng mạnh đó là kỳ vọng của nhà đầu tư vào kết quả kinh doanh năm 2017 sắp được công bố tới đây.\n",
    "      Nhãn:\"\"\",\n",
    "    \"top_p\": 1,\n",
    "    \"top_k\": 40,\n",
    "    \"temperature\": 0.7,\n",
    "    \"max_tokens\": 1,\n",
    "    \"repetition_penalty\": 1,\n",
    "}, headers=headers)\n",
    "print(res.json()['output']['choices'][0]['text']) # ' positive'"
   ]
  },
  {
   "cell_type": "code",
   "execution_count": null,
   "metadata": {},
   "outputs": [],
   "source": [
    "res = requests.post(endpoint, json={\n",
    "    \"model\": 'togethercomputer/RedPajama-INCITE-7B-Base',\n",
    "    \"prompt\": \"\"\"\\\n",
    "      Gán nhãn cho các tiêu đề và tóm tắt nội dung bài báo dưới đây theo 4 mức độ ảnh hưởng lên VN30F1M (hợp đồng \\\n",
    "        tương lai của chỉ số VN30) từ 1 đến 4, với 1 là tiêu cực, 2 là không ảnh hưởng, 3 là vừa tiêu cực vừa \\\n",
    "        tích cực, 4 là tích cực. Chỉ trả về con số tương ứng với mức độ ảnh hưởng. Hợp đồng phái sinh (VN30F1M) hay hợp đồng tương lai (VN30F1M) hay phái sinh \\\n",
    "        đều có nghĩa như nhau. Chỉ số Dow Jones (DJ/DJI) có tương quan lớn tới chỉ số VN30:\n",
    "\n",
    "      Bài báo: Day trading - Chiến lược mua bán ngay trong ngày trên hợp đồng tương lai chỉ số Cơ hội để tìm kiếm lợi nhuận trong ngày trên thị trường phái sinh là rất lớn, với đặc điểm của hợp đồng tương lai có thể mua bán liên tục trong phiên\n",
    "      Nhãn: 4\n",
    "\n",
    "      Bài báo: Ngày mai, HNX sẽ tiến hành thử nghiệm hệ thống giao dịch chứng khoán phái sinh, Phải nhấn mạnh rằng “ký quỹ” trong chứng khoán phái sinh không giống như “ký quỹ” trên thị trường cơ sở. Trên thị trường cơ sở, ký quỹ là tiền nhà đầu tư đặt cọc để được công ty chứng khoán cho vay tiền mua cổ phiếu. Còn trên TTCK phái sinh, ký quỹ mang ý nghĩa là khoản tiền đặt cọc để thanh toán vị thế lãi/lỗ mỗi ngày cho nhà đầu tư.\n",
    "      Nhãn: 2\n",
    "\n",
    "      Bài báo: Bắt đầu mở tài khoản phái sinh, dự kiến giao dịch từ 10/8 Các công ty chứng khoán bắt đầu mở tài khoản cho nhà đầu tư muốn giao dịch chứng khoán phái sinh từ 1/8. Dự kiến thị trường phái sinh sẽ bắt đầu hoạt động từ ngày 10/8 tới...\n",
    "      Nhãn: 2\n",
    "\n",
    "      Bài báo: Có nên lo chứng khoán phái sinh sẽ hút dòng tiền của thị trường cổ phiếu?, Mặc dù có một số ý kiến cho rằng chứng khoán phái sinh sẽ thu hút dòng tiền từ chứng khoán cơ sở, gây ảnh hưởng tới thị trường nhưng các chuyên gia lại cho rằng đây là 2 thị trường hoàn toàn khác nhau và tác động qua lại sẽ không thực sự nhiều.\n",
    "      Nhãn: 3\n",
    "\n",
    "      Bài báo: Kéo trụ bất thành và Vn-Index giảm gần 6 điểm, VPB về tham chiếu, EIB giảm sàn, Các hợp đồng tương lai trên TTCK phái sinh cũng đóng cửa trong sắc đỏ. VN30F1708 đáo hạn ngày hôm nay với mức giảm 3,5 điểm về 744,6 điểm, khớp 1.134 hợp đồng\n",
    "      Nhãn: 1\n",
    "      \n",
    "      Bài báo: CTCK nhận định thị trường 23/08: Quan sát biến động của nhóm cổ phiếu dẫn dắt, có thể gia tăng tỷ trọng các cổ phiếu đã điều chỉnh mạnh, Giá khớp của các hợp đồng tương lai chỉ số trong phiên hôm qua tại tất cả các kỳ hạn đều giảm, cho thấy nhà đầu tư có kỳ vọng khá tiêu cực về diễn biến thị trường ít nhất trong ngắn hạn.\n",
    "      Nhãn: 1\n",
    "\n",
    "      Bài báo: Cổ phiếu VJC tăng thần tốc trước khi vào rổ VN30,Một lực đẩy khác giúp VJC tăng mạnh đó là kỳ vọng của nhà đầu tư vào kết quả kinh doanh năm 2017 sắp được công bố tới đây.\n",
    "      Nhãn:\"\"\",\n",
    "    \"top_p\": 1,\n",
    "    \"top_k\": 40,\n",
    "    \"temperature\": 0.7,\n",
    "    \"max_tokens\": 1,\n",
    "    \"repetition_penalty\": 1,\n",
    "}, headers=headers)\n",
    "print(res.json()['output']['choices'][0]['text']) # ' positive'"
   ]
  },
  {
   "cell_type": "code",
   "execution_count": 26,
   "metadata": {},
   "outputs": [
    {
     "name": "stdout",
     "output_type": "stream",
     "text": [
      "Day trading - Chiến lược mua bán ngay trong ngày trên hợp đồng tương lai chỉ số Cơ hội để tìm kiếm lợi nhuận trong ngày trên thị trường phái sinh là rất lớn, với đặc điểm của hợp đồng tương lai có thể mua bán liên tục trong phiên.\n",
      "Các cách thức thao túng giá trên thị trường chứng khoán phái sinh Trên thế giới, các đối tượng thao túng giá thường sử dụng hai hình thức để kiếm lợi,  mua bán kéo giá chứng khoán tài sản cơ sở để thu lợi trên thị trường phái sinh hoặc kéo giá trên thị trường phái sinh để thu lợi trên thị trường cơ sở.\n"
     ]
    }
   ],
   "source": [
    "for i in range(2):\n",
    "    content = df.iloc[i].content\n",
    "    print(content)\n",
    "    # res = requests.post(endpoint, json={'prompt': content}, headers=headers)\n",
    "    \n",
    "    # print(res.json()['output']['choices'][0]['text'])"
   ]
  },
  {
   "cell_type": "code",
   "execution_count": 14,
   "metadata": {},
   "outputs": [
    {
     "name": "stderr",
     "output_type": "stream",
     "text": [
      "100%|██████████| 207/207 [05:13<00:00,  1.51s/it]\n"
     ]
    }
   ],
   "source": [
    "result = []\n",
    "for i in tqdm(range(877, len(df))):\n",
    "    text = df.iloc[i].content\n",
    "\n",
    "    client = OpenAI(\n",
    "    api_key=together_api,\n",
    "    base_url='https://api.together.xyz/v1',\n",
    "    )\n",
    "\n",
    "    chat_completion = client.chat.completions.create(\n",
    "    messages=[\n",
    "        {\n",
    "        \"role\": \"system\",\n",
    "        \"content\": \"Perform sentiment analysis about Vietnamese news content\",\n",
    "        },\n",
    "        {\n",
    "        'role': 'system',\n",
    "        'content': 'Label the sentences, output format as either: \"positive\", \"negative\", \"mixed\", or \"neutral. Only return one of these four\\\n",
    "            options. Do not explain more\"',\n",
    "        },\n",
    "        {\n",
    "        \"role\": \"user\",\n",
    "        \"content\": text,\n",
    "        }\n",
    "    ],\n",
    "    model=\"mistralai/Mixtral-8x7B-Instruct-v0.1\"\n",
    "    )\n",
    "    res = chat_completion.choices[0].message.content\n",
    "    df.loc[i, 'result'] = res"
   ]
  },
  {
   "cell_type": "code",
   "execution_count": 6,
   "metadata": {},
   "outputs": [
    {
     "name": "stdout",
     "output_type": "stream",
     "text": [
      " Thủ đô của Việt Nam là Hà Nội.\n"
     ]
    }
   ],
   "source": [
    "\n",
    "\n",
    "client = OpenAI(\n",
    "api_key=together_api,\n",
    "base_url='https://api.together.xyz/v1',\n",
    ")\n",
    "\n",
    "chat_completion = client.chat.completions.create(\n",
    "messages=[\n",
    "    {\n",
    "    \"role\": \"system\",\n",
    "    \"content\": \"YOur an AI assistant\",\n",
    "    },\n",
    "    {\n",
    "    'role': 'system',\n",
    "    'content': 'Only answer the name\"',\n",
    "    },\n",
    "    {\n",
    "    \"role\": \"user\",\n",
    "    \"content\": 'Thủ đô Việt Nam?',\n",
    "    }\n",
    "],\n",
    "model=\"mistralai/Mixtral-8x7B-Instruct-v0.1\"\n",
    ")\n",
    "res = chat_completion.choices[0].message.content\n",
    "print(res)"
   ]
  },
  {
   "cell_type": "code",
   "execution_count": 16,
   "metadata": {},
   "outputs": [],
   "source": [
    "df.to_csv('label_data.csv', index=False)"
   ]
  },
  {
   "cell_type": "code",
   "execution_count": 15,
   "metadata": {},
   "outputs": [
    {
     "data": {
      "text/html": [
       "<div>\n",
       "<style scoped>\n",
       "    .dataframe tbody tr th:only-of-type {\n",
       "        vertical-align: middle;\n",
       "    }\n",
       "\n",
       "    .dataframe tbody tr th {\n",
       "        vertical-align: top;\n",
       "    }\n",
       "\n",
       "    .dataframe thead th {\n",
       "        text-align: right;\n",
       "    }\n",
       "</style>\n",
       "<table border=\"1\" class=\"dataframe\">\n",
       "  <thead>\n",
       "    <tr style=\"text-align: right;\">\n",
       "      <th></th>\n",
       "      <th>date</th>\n",
       "      <th>title</th>\n",
       "      <th>description</th>\n",
       "      <th>content</th>\n",
       "      <th>result</th>\n",
       "    </tr>\n",
       "  </thead>\n",
       "  <tbody>\n",
       "  </tbody>\n",
       "</table>\n",
       "</div>"
      ],
      "text/plain": [
       "Empty DataFrame\n",
       "Columns: [date, title, description, content, result]\n",
       "Index: []"
      ]
     },
     "execution_count": 15,
     "metadata": {},
     "output_type": "execute_result"
    }
   ],
   "source": [
    "df[df['result'].isna() == True]"
   ]
  },
  {
   "cell_type": "code",
   "execution_count": 11,
   "metadata": {},
   "outputs": [
    {
     "data": {
      "text/plain": [
       "date                                       01-10-2020 - 07:45 AM\n",
       "title          Kỳ vọng lớn về gói kích thích mới, Dow Jones c...\n",
       "description    Kết thúc phiên 30/9, chứng khoán Mỹ tăng điểm ...\n",
       "content        Kỳ vọng lớn về gói kích thích mới, Dow Jones c...\n",
       "result                                                   neutral\n",
       "Name: 683, dtype: object"
      ]
     },
     "execution_count": 11,
     "metadata": {},
     "output_type": "execute_result"
    }
   ],
   "source": [
    "df.iloc[683]"
   ]
  },
  {
   "cell_type": "code",
   "execution_count": 20,
   "metadata": {},
   "outputs": [
    {
     "data": {
      "text/html": [
       "<div>\n",
       "<style scoped>\n",
       "    .dataframe tbody tr th:only-of-type {\n",
       "        vertical-align: middle;\n",
       "    }\n",
       "\n",
       "    .dataframe tbody tr th {\n",
       "        vertical-align: top;\n",
       "    }\n",
       "\n",
       "    .dataframe thead th {\n",
       "        text-align: right;\n",
       "    }\n",
       "</style>\n",
       "<table border=\"1\" class=\"dataframe\">\n",
       "  <thead>\n",
       "    <tr style=\"text-align: right;\">\n",
       "      <th></th>\n",
       "      <th>date</th>\n",
       "      <th>title</th>\n",
       "      <th>description</th>\n",
       "      <th>content</th>\n",
       "      <th>result</th>\n",
       "    </tr>\n",
       "  </thead>\n",
       "  <tbody>\n",
       "    <tr>\n",
       "      <th>0</th>\n",
       "      <td>02-06-2017 - 09:45 AM</td>\n",
       "      <td>Day trading - Chiến lược mua bán ngay trong ng...</td>\n",
       "      <td>Cơ hội để tìm kiếm lợi nhuận trong ngày trên t...</td>\n",
       "      <td>Day trading - Chiến lược mua bán ngay trong ng...</td>\n",
       "      <td>positive</td>\n",
       "    </tr>\n",
       "    <tr>\n",
       "      <th>1</th>\n",
       "      <td>12-06-2017 - 09:00 AM</td>\n",
       "      <td>Các cách thức thao túng giá trên thị trường ch...</td>\n",
       "      <td>Trên thế giới, các đối tượng thao túng giá thư...</td>\n",
       "      <td>Các cách thức thao túng giá trên thị trường ch...</td>\n",
       "      <td>Neutral\\n\\nThe text is providing factual info...</td>\n",
       "    </tr>\n",
       "    <tr>\n",
       "      <th>2</th>\n",
       "      <td>17-06-2017 - 09:58 AM</td>\n",
       "      <td>Chứng khoán phái sinh: Minh bạch thị trường th...</td>\n",
       "      <td>Những ngày gần đây, khái niệm thị trường chứng...</td>\n",
       "      <td>Chứng khoán phái sinh: Minh bạch thị trường th...</td>\n",
       "      <td>neutral</td>\n",
       "    </tr>\n",
       "    <tr>\n",
       "      <th>3</th>\n",
       "      <td>30-06-2017 - 08:43 AM</td>\n",
       "      <td>Thị trường phái sinh dự kiến khai trương đầu t...</td>\n",
       "      <td>Đại diện Sở Giao dịch Chứng khoán Hà Nội (HNX)...</td>\n",
       "      <td>Thị trường phái sinh dự kiến khai trương đầu t...</td>\n",
       "      <td>neutral</td>\n",
       "    </tr>\n",
       "    <tr>\n",
       "      <th>4</th>\n",
       "      <td>10-07-2017 - 15:08 PM</td>\n",
       "      <td>Chứng khoán 6 tháng cuối năm: Tâm điểm có thuộ...</td>\n",
       "      <td>Thị trường chứng khoán (TTCK) Việt Nam đã trải...</td>\n",
       "      <td>Chứng khoán 6 tháng cuối năm: Tâm điểm có thuộ...</td>\n",
       "      <td>Neutral</td>\n",
       "    </tr>\n",
       "    <tr>\n",
       "      <th>...</th>\n",
       "      <td>...</td>\n",
       "      <td>...</td>\n",
       "      <td>...</td>\n",
       "      <td>...</td>\n",
       "      <td>...</td>\n",
       "    </tr>\n",
       "    <tr>\n",
       "      <th>1079</th>\n",
       "      <td>20-01-2024 - 08:03 AM</td>\n",
       "      <td>Thị phần chiếm hơn 1/5 toàn sàn và quá nửa thị...</td>\n",
       "      <td>Hoạt động môi giới và cho vay khởi sắc giúp lợ...</td>\n",
       "      <td>Thị phần chiếm hơn 1/5 toàn sàn và quá nửa thị...</td>\n",
       "      <td>neutral</td>\n",
       "    </tr>\n",
       "    <tr>\n",
       "      <th>1080</th>\n",
       "      <td>27-01-2024 - 09:10 AM</td>\n",
       "      <td>Hơn 200.000 tỷ đồng trái phiếu doanh nghiệp ri...</td>\n",
       "      <td>Trong hơn 200.000 tỷ đồng trái phiếu doanh ngh...</td>\n",
       "      <td>Hơn 200.000 tỷ đồng trái phiếu doanh nghiệp ri...</td>\n",
       "      <td>neutral</td>\n",
       "    </tr>\n",
       "    <tr>\n",
       "      <th>1081</th>\n",
       "      <td>02-02-2024 - 20:44 PM</td>\n",
       "      <td>Cổ phiếu ngân hàng bị bán mạnh</td>\n",
       "      <td>Chỉ số VN-Index hôm nay (2/2) vẫn tiến lên như...</td>\n",
       "      <td>Cổ phiếu ngân hàng bị bán mạnh Chỉ số VN-Index...</td>\n",
       "      <td>negative</td>\n",
       "    </tr>\n",
       "    <tr>\n",
       "      <th>1082</th>\n",
       "      <td>05-02-2024 - 16:37 PM</td>\n",
       "      <td>Phiên 5/2: Tự doanh CTCK mua ròng hơn trăm tỷ,...</td>\n",
       "      <td>Nhóm tự doanh CTCK mua ròng mạnh nhất tại hai ...</td>\n",
       "      <td>Phiên 5/2: Tự doanh CTCK mua ròng hơn trăm tỷ,...</td>\n",
       "      <td>neutral</td>\n",
       "    </tr>\n",
       "    <tr>\n",
       "      <th>1083</th>\n",
       "      <td>12-02-2024 - 00:01 AM</td>\n",
       "      <td>SGI Capital: Thông điệp “không giữ tiền mặt” đ...</td>\n",
       "      <td>Theo SGI Capital, lãi suất tiền gửi VND hạ nha...</td>\n",
       "      <td>SGI Capital: Thông điệp “không giữ tiền mặt” đ...</td>\n",
       "      <td>The sentiment of this Vietnamese news content...</td>\n",
       "    </tr>\n",
       "  </tbody>\n",
       "</table>\n",
       "<p>1084 rows × 5 columns</p>\n",
       "</div>"
      ],
      "text/plain": [
       "                       date  \\\n",
       "0     02-06-2017 - 09:45 AM   \n",
       "1     12-06-2017 - 09:00 AM   \n",
       "2     17-06-2017 - 09:58 AM   \n",
       "3     30-06-2017 - 08:43 AM   \n",
       "4     10-07-2017 - 15:08 PM   \n",
       "...                     ...   \n",
       "1079  20-01-2024 - 08:03 AM   \n",
       "1080  27-01-2024 - 09:10 AM   \n",
       "1081  02-02-2024 - 20:44 PM   \n",
       "1082  05-02-2024 - 16:37 PM   \n",
       "1083  12-02-2024 - 00:01 AM   \n",
       "\n",
       "                                                  title  \\\n",
       "0     Day trading - Chiến lược mua bán ngay trong ng...   \n",
       "1     Các cách thức thao túng giá trên thị trường ch...   \n",
       "2     Chứng khoán phái sinh: Minh bạch thị trường th...   \n",
       "3     Thị trường phái sinh dự kiến khai trương đầu t...   \n",
       "4     Chứng khoán 6 tháng cuối năm: Tâm điểm có thuộ...   \n",
       "...                                                 ...   \n",
       "1079  Thị phần chiếm hơn 1/5 toàn sàn và quá nửa thị...   \n",
       "1080  Hơn 200.000 tỷ đồng trái phiếu doanh nghiệp ri...   \n",
       "1081                     Cổ phiếu ngân hàng bị bán mạnh   \n",
       "1082  Phiên 5/2: Tự doanh CTCK mua ròng hơn trăm tỷ,...   \n",
       "1083  SGI Capital: Thông điệp “không giữ tiền mặt” đ...   \n",
       "\n",
       "                                            description  \\\n",
       "0     Cơ hội để tìm kiếm lợi nhuận trong ngày trên t...   \n",
       "1     Trên thế giới, các đối tượng thao túng giá thư...   \n",
       "2     Những ngày gần đây, khái niệm thị trường chứng...   \n",
       "3     Đại diện Sở Giao dịch Chứng khoán Hà Nội (HNX)...   \n",
       "4     Thị trường chứng khoán (TTCK) Việt Nam đã trải...   \n",
       "...                                                 ...   \n",
       "1079  Hoạt động môi giới và cho vay khởi sắc giúp lợ...   \n",
       "1080  Trong hơn 200.000 tỷ đồng trái phiếu doanh ngh...   \n",
       "1081  Chỉ số VN-Index hôm nay (2/2) vẫn tiến lên như...   \n",
       "1082  Nhóm tự doanh CTCK mua ròng mạnh nhất tại hai ...   \n",
       "1083  Theo SGI Capital, lãi suất tiền gửi VND hạ nha...   \n",
       "\n",
       "                                                content  \\\n",
       "0     Day trading - Chiến lược mua bán ngay trong ng...   \n",
       "1     Các cách thức thao túng giá trên thị trường ch...   \n",
       "2     Chứng khoán phái sinh: Minh bạch thị trường th...   \n",
       "3     Thị trường phái sinh dự kiến khai trương đầu t...   \n",
       "4     Chứng khoán 6 tháng cuối năm: Tâm điểm có thuộ...   \n",
       "...                                                 ...   \n",
       "1079  Thị phần chiếm hơn 1/5 toàn sàn và quá nửa thị...   \n",
       "1080  Hơn 200.000 tỷ đồng trái phiếu doanh nghiệp ri...   \n",
       "1081  Cổ phiếu ngân hàng bị bán mạnh Chỉ số VN-Index...   \n",
       "1082  Phiên 5/2: Tự doanh CTCK mua ròng hơn trăm tỷ,...   \n",
       "1083  SGI Capital: Thông điệp “không giữ tiền mặt” đ...   \n",
       "\n",
       "                                                 result  \n",
       "0                                              positive  \n",
       "1      Neutral\\n\\nThe text is providing factual info...  \n",
       "2                                               neutral  \n",
       "3                                               neutral  \n",
       "4                                               Neutral  \n",
       "...                                                 ...  \n",
       "1079                                            neutral  \n",
       "1080                                            neutral  \n",
       "1081                                           negative  \n",
       "1082                                            neutral  \n",
       "1083   The sentiment of this Vietnamese news content...  \n",
       "\n",
       "[1084 rows x 5 columns]"
      ]
     },
     "execution_count": 20,
     "metadata": {},
     "output_type": "execute_result"
    }
   ],
   "source": [
    "df[df.result.str.len() > 2]"
   ]
  },
  {
   "cell_type": "code",
   "execution_count": null,
   "metadata": {},
   "outputs": [],
   "source": [
    "keywords = ['negative', 'neutral', 'mixed', 'positive']\n",
    "pattern = '|'.join(keywords)\n",
    "filter_df = df[df['result'].str.contains(pattern, regex=True)]"
   ]
  },
  {
   "cell_type": "code",
   "execution_count": 22,
   "metadata": {},
   "outputs": [],
   "source": [
    "def extract_text(text):\n",
    "    if 'neutral' in text:\n",
    "        return '1'\n",
    "    if 'negative' in text:\n",
    "        return '0'\n",
    "    if 'mixed' in text:\n",
    "        return '2'\n",
    "    else:\n",
    "        return '3'"
   ]
  },
  {
   "cell_type": "code",
   "execution_count": 23,
   "metadata": {},
   "outputs": [],
   "source": [
    "df['result'] = df['result'].apply(extract_text)"
   ]
  },
  {
   "cell_type": "code",
   "execution_count": 24,
   "metadata": {},
   "outputs": [],
   "source": [
    "df.to_csv('label_data.csv')"
   ]
  },
  {
   "cell_type": "code",
   "execution_count": 25,
   "metadata": {},
   "outputs": [
    {
     "data": {
      "text/plain": [
       "1    500\n",
       "3    393\n",
       "0    188\n",
       "2      3\n",
       "Name: result, dtype: int64"
      ]
     },
     "execution_count": 25,
     "metadata": {},
     "output_type": "execute_result"
    }
   ],
   "source": [
    "df['result'].value_counts()"
   ]
  },
  {
   "cell_type": "code",
   "execution_count": 29,
   "metadata": {},
   "outputs": [
    {
     "data": {
      "text/html": [
       "<div>\n",
       "<style scoped>\n",
       "    .dataframe tbody tr th:only-of-type {\n",
       "        vertical-align: middle;\n",
       "    }\n",
       "\n",
       "    .dataframe tbody tr th {\n",
       "        vertical-align: top;\n",
       "    }\n",
       "\n",
       "    .dataframe thead th {\n",
       "        text-align: right;\n",
       "    }\n",
       "</style>\n",
       "<table border=\"1\" class=\"dataframe\">\n",
       "  <thead>\n",
       "    <tr style=\"text-align: right;\">\n",
       "      <th></th>\n",
       "      <th>date</th>\n",
       "      <th>title</th>\n",
       "      <th>description</th>\n",
       "      <th>content</th>\n",
       "      <th>result</th>\n",
       "    </tr>\n",
       "  </thead>\n",
       "  <tbody>\n",
       "    <tr>\n",
       "      <th>47</th>\n",
       "      <td>22-08-2017 - 08:00 AM</td>\n",
       "      <td>Làm thế nào để đầu tư trên thị trường phái sinh</td>\n",
       "      <td>Thị trường phái sinh vừa mở cửa ngày 10/8 qua với sản phẩm đầu tiên là Hợp đồng Tương lai chỉ số VN30 đã mở ra nhiều cơ hội đầu tư mới trên thị trường tài chính Việt Nam. Tuy nhiên, làm thế nào để đầu tư hiệu quả là câu hỏi mà bất kỳ nhà đầu tư nào cũng quan tâm.</td>\n",
       "      <td>Làm thế nào để đầu tư trên thị trường phái sinh Thị trường phái sinh vừa mở cửa ngày 10/8 qua với sản phẩm đầu tiên là Hợp đồng Tương lai chỉ số VN30 đã mở ra nhiều cơ hội đầu tư mới trên thị trường tài chính Việt Nam. Tuy nhiên, làm thế nào để đầu tư hiệu quả là câu hỏi mà bất kỳ nhà đầu tư nào cũng quan tâm.</td>\n",
       "      <td>2</td>\n",
       "    </tr>\n",
       "    <tr>\n",
       "      <th>780</th>\n",
       "      <td>20-05-2021 - 16:57 PM</td>\n",
       "      <td>VN30-Index vượt 1.400 điểm và bỏ xa VN-Index, tuy nhiên rủi ro dần tăng lên?</td>\n",
       "      <td>Index vượt 1.400 điểm và bỏ xa VN-Index, tuy nhiên rủi ro dần tăng lên?</td>\n",
       "      <td>VN30-Index vượt 1.400 điểm và bỏ xa VN-Index, tuy nhiên rủi ro dần tăng lên? Index vượt 1.400 điểm và bỏ xa VN-Index, tuy nhiên rủi ro dần tăng lên?</td>\n",
       "      <td>2</td>\n",
       "    </tr>\n",
       "    <tr>\n",
       "      <th>880</th>\n",
       "      <td>28-05-2022 - 21:39 PM</td>\n",
       "      <td>Thay đổi cách tính giá đáo hạn phái sinh: Vẫn còn khả năng thao túng</td>\n",
       "      <td>Nhằm nâng cao chất lượng của thị trường vốn, dưới sự chỉ đạo của Ủy Ban Chứng Khoán Nhà Nước (UBCKNN), Trung tâm Lưu ký Chứng khoán Việt Nam (VSD) đã công bố thay đổi phương pháp tính giá thanh toán cuối cùng của hợp đồng tương lai. Tuy nhiên cách tính mới vẫn có thể bị thao túng trên quy mô lớn.</td>\n",
       "      <td>Thay đổi cách tính giá đáo hạn phái sinh: Vẫn còn khả năng thao túng Nhằm nâng cao chất lượng của thị trường vốn, dưới sự chỉ đạo của Ủy Ban Chứng Khoán Nhà Nước (UBCKNN), Trung tâm Lưu ký Chứng khoán Việt Nam (VSD) đã công bố thay đổi phương pháp tính giá thanh toán cuối cùng của hợp đồng tương lai. Tuy nhiên cách tính mới vẫn có thể bị thao túng trên quy mô lớn.</td>\n",
       "      <td>2</td>\n",
       "    </tr>\n",
       "  </tbody>\n",
       "</table>\n",
       "</div>"
      ],
      "text/plain": [
       "                      date  \\\n",
       "47   22-08-2017 - 08:00 AM   \n",
       "780  20-05-2021 - 16:57 PM   \n",
       "880  28-05-2022 - 21:39 PM   \n",
       "\n",
       "                                                                            title  \\\n",
       "47                                Làm thế nào để đầu tư trên thị trường phái sinh   \n",
       "780  VN30-Index vượt 1.400 điểm và bỏ xa VN-Index, tuy nhiên rủi ro dần tăng lên?   \n",
       "880          Thay đổi cách tính giá đáo hạn phái sinh: Vẫn còn khả năng thao túng   \n",
       "\n",
       "                                                                                                                                                                                                                                                                                                   description  \\\n",
       "47                                     Thị trường phái sinh vừa mở cửa ngày 10/8 qua với sản phẩm đầu tiên là Hợp đồng Tương lai chỉ số VN30 đã mở ra nhiều cơ hội đầu tư mới trên thị trường tài chính Việt Nam. Tuy nhiên, làm thế nào để đầu tư hiệu quả là câu hỏi mà bất kỳ nhà đầu tư nào cũng quan tâm.   \n",
       "780                                                                                                                                                                                                                                    Index vượt 1.400 điểm và bỏ xa VN-Index, tuy nhiên rủi ro dần tăng lên?   \n",
       "880  Nhằm nâng cao chất lượng của thị trường vốn, dưới sự chỉ đạo của Ủy Ban Chứng Khoán Nhà Nước (UBCKNN), Trung tâm Lưu ký Chứng khoán Việt Nam (VSD) đã công bố thay đổi phương pháp tính giá thanh toán cuối cùng của hợp đồng tương lai. Tuy nhiên cách tính mới vẫn có thể bị thao túng trên quy mô lớn.   \n",
       "\n",
       "                                                                                                                                                                                                                                                                                                                                                                            content  \\\n",
       "47                                                          Làm thế nào để đầu tư trên thị trường phái sinh Thị trường phái sinh vừa mở cửa ngày 10/8 qua với sản phẩm đầu tiên là Hợp đồng Tương lai chỉ số VN30 đã mở ra nhiều cơ hội đầu tư mới trên thị trường tài chính Việt Nam. Tuy nhiên, làm thế nào để đầu tư hiệu quả là câu hỏi mà bất kỳ nhà đầu tư nào cũng quan tâm.   \n",
       "780                                                                                                                                                                                                                            VN30-Index vượt 1.400 điểm và bỏ xa VN-Index, tuy nhiên rủi ro dần tăng lên? Index vượt 1.400 điểm và bỏ xa VN-Index, tuy nhiên rủi ro dần tăng lên?   \n",
       "880  Thay đổi cách tính giá đáo hạn phái sinh: Vẫn còn khả năng thao túng Nhằm nâng cao chất lượng của thị trường vốn, dưới sự chỉ đạo của Ủy Ban Chứng Khoán Nhà Nước (UBCKNN), Trung tâm Lưu ký Chứng khoán Việt Nam (VSD) đã công bố thay đổi phương pháp tính giá thanh toán cuối cùng của hợp đồng tương lai. Tuy nhiên cách tính mới vẫn có thể bị thao túng trên quy mô lớn.   \n",
       "\n",
       "    result  \n",
       "47       2  \n",
       "780      2  \n",
       "880      2  "
      ]
     },
     "execution_count": 29,
     "metadata": {},
     "output_type": "execute_result"
    }
   ],
   "source": [
    "pd.set_option('display.max_colwidth', None)\n",
    "df[df['result'] == '2']"
   ]
  },
  {
   "cell_type": "code",
   "execution_count": 27,
   "metadata": {},
   "outputs": [
    {
     "data": {
      "text/plain": [
       "0       3\n",
       "1       3\n",
       "2       1\n",
       "3       1\n",
       "4       3\n",
       "       ..\n",
       "1079    1\n",
       "1080    1\n",
       "1081    0\n",
       "1082    1\n",
       "1083    1\n",
       "Name: result, Length: 1084, dtype: object"
      ]
     },
     "execution_count": 27,
     "metadata": {},
     "output_type": "execute_result"
    }
   ],
   "source": [
    "df['result']"
   ]
  },
  {
   "cell_type": "code",
   "execution_count": null,
   "metadata": {},
   "outputs": [],
   "source": []
  }
 ],
 "metadata": {
  "kernelspec": {
   "display_name": "base",
   "language": "python",
   "name": "python3"
  },
  "language_info": {
   "codemirror_mode": {
    "name": "ipython",
    "version": 3
   },
   "file_extension": ".py",
   "mimetype": "text/x-python",
   "name": "python",
   "nbconvert_exporter": "python",
   "pygments_lexer": "ipython3",
   "version": "3.9.7"
  }
 },
 "nbformat": 4,
 "nbformat_minor": 2
}
