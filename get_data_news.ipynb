{
 "cells": [
  {
   "cell_type": "code",
   "execution_count": 1,
   "metadata": {},
   "outputs": [],
   "source": [
    "import requests\n",
    "from bs4 import BeautifulSoup\n",
    "import datetime\n",
    "from datetime import timedelta, datetime\n",
    "from time import sleep\n",
    "\n",
    "import pandas as pd\n",
    "import csv\n",
    "from tqdm import tqdm"
   ]
  },
  {
   "cell_type": "code",
   "execution_count": null,
   "metadata": {},
   "outputs": [],
   "source": [
    "start_date = datetime(2017, 6, 1)\n",
    "end_date = datetime(2018, 8, 12)\n",
    "days_between = (end_date - start_date).days\n",
    "dates = [start_date + timedelta(days=i) for i in range(days_between + 1)]\n",
    "dates"
   ]
  },
  {
   "cell_type": "code",
   "execution_count": 6,
   "metadata": {},
   "outputs": [
    {
     "name": "stderr",
     "output_type": "stream",
     "text": [
      "  0%|          | 0/438 [00:00<?, ?it/s]"
     ]
    },
    {
     "name": "stderr",
     "output_type": "stream",
     "text": [
      "100%|██████████| 438/438 [32:38<00:00,  4.47s/it]\n"
     ]
    }
   ],
   "source": [
    "csv_file = \"news_data.csv\"\n",
    "\n",
    "with open(csv_file, \"w\", newline=\"\", encoding=\"utf-8\") as f:\n",
    "    writer = csv.DictWriter(f, fieldnames=[\"date\", \"title\", \"description\"])\n",
    "    writer.writeheader()\n",
    "\n",
    "    for dt in tqdm(dates):\n",
    "        data = []\n",
    "        response = requests.get('https://cafef.vn/thi-truong-chung-khoan/' + dt.strftime('%d/%m/%Y') + '.chn')\n",
    "        soup = BeautifulSoup(response.content, 'html.parser')\n",
    "        \n",
    "        titles = soup.find_all('h3')\n",
    "        des = soup.find_all('p', {'class': 'sapo'})\n",
    "        \n",
    "        for t, d in zip(titles, des):\n",
    "            row = {}\n",
    "            row['title'] = t.text.strip()\n",
    "            row['description'] = d.text.strip()\n",
    "            new_url = t.a.get('href')  # get attribute 'href' from <a> element\n",
    "            if not new_url.startswith('http'):\n",
    "                new_url = 'https://cafef.vn' + new_url\n",
    "        \n",
    "            response = requests.get(new_url)\n",
    "            soup = BeautifulSoup(response.content, 'html.parser')\n",
    "            time = soup.find('span', {'class': 'pdate'})\n",
    "            try:\n",
    "                row['date'] = time.text.strip()\n",
    "            except:\n",
    "                row['date'] = dt.strftime('%d/%m/%Y')\n",
    "            data.append(row)\n",
    "        \n",
    "        # Write data for each day to the CSV file\n",
    "        for row in data:\n",
    "            writer.writerow(row)"
   ]
  }
 ],
 "metadata": {
  "kernelspec": {
   "display_name": "base",
   "language": "python",
   "name": "python3"
  },
  "language_info": {
   "codemirror_mode": {
    "name": "ipython",
    "version": 3
   },
   "file_extension": ".py",
   "mimetype": "text/x-python",
   "name": "python",
   "nbconvert_exporter": "python",
   "pygments_lexer": "ipython3",
   "version": "3.9.7"
  }
 },
 "nbformat": 4,
 "nbformat_minor": 2
}
