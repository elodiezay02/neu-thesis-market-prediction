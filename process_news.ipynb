{
 "cells": [
  {
   "cell_type": "code",
   "execution_count": 6,
   "metadata": {},
   "outputs": [],
   "source": [
    "import pandas as pd\n",
    "import numpy as np\n",
    "import regex as re \n",
    "\n",
    "from openai import OpenAI\n",
    "import requests\n",
    "from tqdm import tqdm\n",
    "import os\n",
    "from dotenv import load_dotenv\n",
    "load_dotenv()"
   ]
  },
  {
   "cell_type": "code",
   "execution_count": 19,
   "metadata": {},
   "outputs": [],
   "source": [
    "df = pd.read_csv('news_data.csv', usecols=['date', 'title', 'description'])"
   ]
  },
  {
   "cell_type": "code",
   "execution_count": null,
   "metadata": {},
   "outputs": [],
   "source": [
    "## to datetime\n",
    "\n",
    "# df.loc[df.date.str.contains('\\d{2}/\\d{2}/\\d{4}', regex=True), 'date'] = df.date + ' - 00:00 AM'\n",
    "# df['date'] = pd.to_datetime(df['date'], format='%d-%m-%Y -  %H:%M %p')"
   ]
  },
  {
   "cell_type": "markdown",
   "metadata": {},
   "source": [
    "# Filter only related news by keywords"
   ]
  },
  {
   "cell_type": "code",
   "execution_count": 14,
   "metadata": {},
   "outputs": [],
   "source": [
    "#  filter news containing VNI, VN30F1M\n",
    "# keywords = ['vni', 'vn-index', 'vnindex', 'vn index', 'vn30f1m', 'vn30', 'phái sinh', 'đáo hạn', 'phai sinh', 'index', \\\n",
    "#             'dow jones', 'dji', 'hợp đồng tương lai', 'dj']\n",
    "keywords = ['vn30f1m', 'vn30', 'phái sinh', 'đáo hạn', 'phai sinh', 'hợp đồng tương lai',\\\n",
    "            'dow jones', 'dji', 'dj']\n",
    "pattern = '|'.join(map(re.escape, keywords)) \n",
    "cleaned = df[(df.title.str.lower().str.contains(pattern)) | (df.description.str.lower().str.contains(pattern))] \n",
    "# df_c[(df_c.title.str.lower().str.contains(pattern))]"
   ]
  },
  {
   "cell_type": "code",
   "execution_count": 9,
   "metadata": {},
   "outputs": [
    {
     "data": {
      "text/html": [
       "<div>\n",
       "<style scoped>\n",
       "    .dataframe tbody tr th:only-of-type {\n",
       "        vertical-align: middle;\n",
       "    }\n",
       "\n",
       "    .dataframe tbody tr th {\n",
       "        vertical-align: top;\n",
       "    }\n",
       "\n",
       "    .dataframe thead th {\n",
       "        text-align: right;\n",
       "    }\n",
       "</style>\n",
       "<table border=\"1\" class=\"dataframe\">\n",
       "  <thead>\n",
       "    <tr style=\"text-align: right;\">\n",
       "      <th></th>\n",
       "      <th>date</th>\n",
       "      <th>title</th>\n",
       "      <th>description</th>\n",
       "    </tr>\n",
       "  </thead>\n",
       "  <tbody>\n",
       "    <tr>\n",
       "      <th>24</th>\n",
       "      <td>02-06-2017 - 09:45 AM</td>\n",
       "      <td>Day trading - Chiến lược mua bán ngay trong ng...</td>\n",
       "      <td>Cơ hội để tìm kiếm lợi nhuận trong ngày trên t...</td>\n",
       "    </tr>\n",
       "    <tr>\n",
       "      <th>151</th>\n",
       "      <td>12-06-2017 - 09:00 AM</td>\n",
       "      <td>Các cách thức thao túng giá trên thị trường ch...</td>\n",
       "      <td>Trên thế giới, các đối tượng thao túng giá thư...</td>\n",
       "    </tr>\n",
       "    <tr>\n",
       "      <th>218</th>\n",
       "      <td>17-06-2017 - 09:58 AM</td>\n",
       "      <td>Chứng khoán phái sinh: Minh bạch thị trường th...</td>\n",
       "      <td>Những ngày gần đây, khái niệm thị trường chứng...</td>\n",
       "    </tr>\n",
       "    <tr>\n",
       "      <th>372</th>\n",
       "      <td>30-06-2017 - 08:43 AM</td>\n",
       "      <td>Thị trường phái sinh dự kiến khai trương đầu t...</td>\n",
       "      <td>Đại diện Sở Giao dịch Chứng khoán Hà Nội (HNX)...</td>\n",
       "    </tr>\n",
       "    <tr>\n",
       "      <th>491</th>\n",
       "      <td>10-07-2017 - 15:08 PM</td>\n",
       "      <td>Chứng khoán 6 tháng cuối năm: Tâm điểm có thuộ...</td>\n",
       "      <td>Thị trường chứng khoán (TTCK) Việt Nam đã trải...</td>\n",
       "    </tr>\n",
       "    <tr>\n",
       "      <th>...</th>\n",
       "      <td>...</td>\n",
       "      <td>...</td>\n",
       "      <td>...</td>\n",
       "    </tr>\n",
       "    <tr>\n",
       "      <th>4712</th>\n",
       "      <td>29-07-2018 - 21:13 PM</td>\n",
       "      <td>Thanh khoản thị trường phái sinh tiếp tục sụt ...</td>\n",
       "      <td>Số lượng vị thế mở ở mỗi phiên giao dịch đã tă...</td>\n",
       "    </tr>\n",
       "    <tr>\n",
       "      <th>4804</th>\n",
       "      <td>07-08-2018 - 08:45 AM</td>\n",
       "      <td>Công ty chứng khoán nhận định thị trường 7/8</td>\n",
       "      <td>Ngưỡng kháng cự trung hạn MA50 tại 961 điểm vẫ...</td>\n",
       "    </tr>\n",
       "    <tr>\n",
       "      <th>4806</th>\n",
       "      <td>07-08-2018 - 07:10 AM</td>\n",
       "      <td>FTS, PTB, SBT, NLG, HBC, SCR, FTM, CEE, LTG, F...</td>\n",
       "      <td>Thông tin giao dịch lượng lớn cổ phiếu trên HN...</td>\n",
       "    </tr>\n",
       "    <tr>\n",
       "      <th>4818</th>\n",
       "      <td>08-08-2018 - 09:21 AM</td>\n",
       "      <td>Dòng tiền ồ ạt chảy vào phái sinh, CTCK đua nh...</td>\n",
       "      <td>Theo xu hướng dòng tiền, các CTCK hiện đang đu...</td>\n",
       "    </tr>\n",
       "    <tr>\n",
       "      <th>4835</th>\n",
       "      <td>10-08-2018 - 14:58 PM</td>\n",
       "      <td>Thị trường chứng khoán phái sinh sau 1 năm hoạ...</td>\n",
       "      <td>Số tài khoản có giao dịch đạt 11.225 tài khoản...</td>\n",
       "    </tr>\n",
       "  </tbody>\n",
       "</table>\n",
       "<p>168 rows × 3 columns</p>\n",
       "</div>"
      ],
      "text/plain": [
       "                       date  \\\n",
       "24    02-06-2017 - 09:45 AM   \n",
       "151   12-06-2017 - 09:00 AM   \n",
       "218   17-06-2017 - 09:58 AM   \n",
       "372   30-06-2017 - 08:43 AM   \n",
       "491   10-07-2017 - 15:08 PM   \n",
       "...                     ...   \n",
       "4712  29-07-2018 - 21:13 PM   \n",
       "4804  07-08-2018 - 08:45 AM   \n",
       "4806  07-08-2018 - 07:10 AM   \n",
       "4818  08-08-2018 - 09:21 AM   \n",
       "4835  10-08-2018 - 14:58 PM   \n",
       "\n",
       "                                                  title  \\\n",
       "24    Day trading - Chiến lược mua bán ngay trong ng...   \n",
       "151   Các cách thức thao túng giá trên thị trường ch...   \n",
       "218   Chứng khoán phái sinh: Minh bạch thị trường th...   \n",
       "372   Thị trường phái sinh dự kiến khai trương đầu t...   \n",
       "491   Chứng khoán 6 tháng cuối năm: Tâm điểm có thuộ...   \n",
       "...                                                 ...   \n",
       "4712  Thanh khoản thị trường phái sinh tiếp tục sụt ...   \n",
       "4804       Công ty chứng khoán nhận định thị trường 7/8   \n",
       "4806  FTS, PTB, SBT, NLG, HBC, SCR, FTM, CEE, LTG, F...   \n",
       "4818  Dòng tiền ồ ạt chảy vào phái sinh, CTCK đua nh...   \n",
       "4835  Thị trường chứng khoán phái sinh sau 1 năm hoạ...   \n",
       "\n",
       "                                            description  \n",
       "24    Cơ hội để tìm kiếm lợi nhuận trong ngày trên t...  \n",
       "151   Trên thế giới, các đối tượng thao túng giá thư...  \n",
       "218   Những ngày gần đây, khái niệm thị trường chứng...  \n",
       "372   Đại diện Sở Giao dịch Chứng khoán Hà Nội (HNX)...  \n",
       "491   Thị trường chứng khoán (TTCK) Việt Nam đã trải...  \n",
       "...                                                 ...  \n",
       "4712  Số lượng vị thế mở ở mỗi phiên giao dịch đã tă...  \n",
       "4804  Ngưỡng kháng cự trung hạn MA50 tại 961 điểm vẫ...  \n",
       "4806  Thông tin giao dịch lượng lớn cổ phiếu trên HN...  \n",
       "4818  Theo xu hướng dòng tiền, các CTCK hiện đang đu...  \n",
       "4835  Số tài khoản có giao dịch đạt 11.225 tài khoản...  \n",
       "\n",
       "[168 rows x 3 columns]"
      ]
     },
     "execution_count": 9,
     "metadata": {},
     "output_type": "execute_result"
    }
   ],
   "source": [
    "cleaned"
   ]
  },
  {
   "cell_type": "code",
   "execution_count": 16,
   "metadata": {},
   "outputs": [],
   "source": [
    "cleaned.to_csv('cleaned_data.csv', index=False)"
   ]
  },
  {
   "cell_type": "markdown",
   "metadata": {},
   "source": [
    "# Label data"
   ]
  },
  {
   "cell_type": "code",
   "execution_count": null,
   "metadata": {},
   "outputs": [],
   "source": [
    "together_api = os.getenv('together_api')\n",
    "\n",
    "endpoint = 'https://api.together.xyz/inference'\n",
    "headers={\n",
    "    \"Authorization\": f\"Bearer {together_api}\",\n",
    "    \"User-Agent\": \"News Labeling\"\n",
    "}"
   ]
  },
  {
   "cell_type": "code",
   "execution_count": null,
   "metadata": {},
   "outputs": [],
   "source": [
    "df = cleaned"
   ]
  },
  {
   "cell_type": "code",
   "execution_count": null,
   "metadata": {},
   "outputs": [],
   "source": [
    "df['content'] = df['title'] + ' ' + df['description']\n",
    "df['result'] = ''"
   ]
  },
  {
   "cell_type": "code",
   "execution_count": null,
   "metadata": {},
   "outputs": [],
   "source": [
    "result = []\n",
    "for i in tqdm(range(877, len(df))):\n",
    "    text = df.iloc[i].content\n",
    "\n",
    "    client = OpenAI(\n",
    "    api_key=together_api,\n",
    "    base_url='https://api.together.xyz/v1',\n",
    "    )\n",
    "\n",
    "    chat_completion = client.chat.completions.create(\n",
    "    messages=[\n",
    "        {\n",
    "        \"role\": \"system\",\n",
    "        \"content\": \"Perform sentiment analysis about Vietnamese news content\",\n",
    "        },\n",
    "        {\n",
    "        'role': 'system',\n",
    "        'content': 'Label the sentences, output format as either: \"positive\", \"negative\", \"mixed\", or \"neutral. Only return one of these four\\\n",
    "            options. Do not explain more\"',\n",
    "        },\n",
    "        {\n",
    "        \"role\": \"user\",\n",
    "        \"content\": text,\n",
    "        }\n",
    "    ],\n",
    "    model=\"mistralai/Mixtral-8x7B-Instruct-v0.1\"\n",
    "    )\n",
    "    res = chat_completion.choices[0].message.content\n",
    "    df.loc[i, 'result'] = res"
   ]
  },
  {
   "cell_type": "markdown",
   "metadata": {},
   "source": [
    "# Extract Label"
   ]
  },
  {
   "cell_type": "code",
   "execution_count": null,
   "metadata": {},
   "outputs": [],
   "source": [
    "def extract_text(text):\n",
    "    if 'neutral' in text:\n",
    "        return '1'\n",
    "    if 'negative' in text:\n",
    "        return '0'\n",
    "    if 'mixed' in text:\n",
    "        return '2'\n",
    "    else:\n",
    "        return '3'\n",
    "    \n",
    "df['result'] = df['result'].apply(extract_text)"
   ]
  }
 ],
 "metadata": {
  "kernelspec": {
   "display_name": "base",
   "language": "python",
   "name": "python3"
  },
  "language_info": {
   "codemirror_mode": {
    "name": "ipython",
    "version": 3
   },
   "file_extension": ".py",
   "mimetype": "text/x-python",
   "name": "python",
   "nbconvert_exporter": "python",
   "pygments_lexer": "ipython3",
   "version": "3.9.7"
  }
 },
 "nbformat": 4,
 "nbformat_minor": 2
}
